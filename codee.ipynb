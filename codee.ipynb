{
 "cells": [
  {
   "cell_type": "code",
   "execution_count": 2,
   "id": "a17f3f57",
   "metadata": {},
   "outputs": [],
   "source": [
    "#exercise\n",
    "my_dictionary = {\n",
    "    'word': 'Econometrics',\n",
    "    \"sentence\": 'If the implementation is easy to explain, it may be a good idea.',\n",
    "    'big_list': [\"python\", 3, \"anaconda\", 3.6, \"jupyter\", 10, \"lessons\", \"many\", 99],\n",
    "    \"empty_list\": []\n",
    "}\n"
   ]
  },
  {
   "cell_type": "code",
   "execution_count": 3,
   "id": "63ce37c1",
   "metadata": {},
   "outputs": [],
   "source": [
    "#point 1, 2\n",
    "if not my_dictionary['word'].isupper():\n",
    "    my_dictionary['word'] =\"Applied_\"+ my_dictionary['word'].upper() "
   ]
  },
  {
   "cell_type": "code",
   "execution_count": 4,
   "id": "9cee9c94",
   "metadata": {},
   "outputs": [
    {
     "data": {
      "text/plain": [
       "'Else the implementation is easy to explain, it may be a good idea.'"
      ]
     },
     "execution_count": 4,
     "metadata": {},
     "output_type": "execute_result"
    }
   ],
   "source": [
    "#point 3\n",
    "my_dictionary['sentence'].replace(\"If\", \"Else\")"
   ]
  },
  {
   "cell_type": "code",
   "execution_count": 5,
   "id": "b9ac3a7f",
   "metadata": {},
   "outputs": [
    {
     "name": "stdout",
     "output_type": "stream",
     "text": [
      "p\n",
      "a\n",
      "j\n",
      "l\n",
      "m\n"
     ]
    }
   ],
   "source": [
    "#point 4\n",
    "for i in my_dictionary['big_list']:\n",
    "    if type(i) == str:\n",
    "        print(i[0])"
   ]
  },
  {
   "cell_type": "code",
   "execution_count": 8,
   "id": "4d93369f",
   "metadata": {},
   "outputs": [
    {
     "name": "stdout",
     "output_type": "stream",
     "text": [
      "100\n"
     ]
    }
   ],
   "source": [
    "#point5\n",
    "sum = 0\n",
    "for i in my_dictionary['big_list']:\n",
    "    if type(i) == int:\n",
    "        sum+= i\n",
    "sum1 = 0\n",
    "my_dictionary['big_list'].remove(my_dictionary['big_list'][-1])\n",
    "my_dictionary['big_list'].append(87)\n",
    "for item in my_dictionary['big_list']:\n",
    "    if type(item) == int:\n",
    "        sum1+= item\n",
    "print(sum1)"
   ]
  },
  {
   "cell_type": "code",
   "execution_count": 12,
   "id": "a3202c52",
   "metadata": {},
   "outputs": [
    {
     "data": {
      "text/plain": [
       "{'word': 'Applied_ECONOMETRICS',\n",
       " 'sentence': 'If the implementation is easy to explain, it may be a good idea.',\n",
       " 'big_list': ['python',\n",
       "  3,\n",
       "  'anaconda',\n",
       "  3.6,\n",
       "  'jupyter',\n",
       "  10,\n",
       "  'lessons',\n",
       "  'Karate',\n",
       "  87],\n",
       " 'empty_list': []}"
      ]
     },
     "execution_count": 12,
     "metadata": {},
     "output_type": "execute_result"
    }
   ],
   "source": [
    "#point 6\n",
    "my_dictionary['big_list'][7] = \"Karate\"\n",
    "my_dictionary"
   ]
  }
 ],
 "metadata": {
  "kernelspec": {
   "display_name": "Python 3 (ipykernel)",
   "language": "python",
   "name": "python3"
  },
  "language_info": {
   "codemirror_mode": {
    "name": "ipython",
    "version": 3
   },
   "file_extension": ".py",
   "mimetype": "text/x-python",
   "name": "python",
   "nbconvert_exporter": "python",
   "pygments_lexer": "ipython3",
   "version": "3.9.7"
  }
 },
 "nbformat": 4,
 "nbformat_minor": 5
}
